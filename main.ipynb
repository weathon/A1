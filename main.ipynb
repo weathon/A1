{
 "cells": [
  {
   "cell_type": "code",
   "execution_count": null,
   "metadata": {},
   "outputs": [],
   "source": [
    "!pip3 install pip install tableprint"
   ]
  },
  {
   "cell_type": "code",
   "execution_count": 31,
   "metadata": {},
   "outputs": [],
   "source": [
    "import numpy as np\n",
    "import pandas as pd\n",
    "import tableprint as tp\n",
    "import pylab\n",
    "import scipy.stats"
   ]
  },
  {
   "cell_type": "code",
   "execution_count": 22,
   "metadata": {},
   "outputs": [
    {
     "data": {
      "text/html": [
       "<div>\n",
       "<style scoped>\n",
       "    .dataframe tbody tr th:only-of-type {\n",
       "        vertical-align: middle;\n",
       "    }\n",
       "\n",
       "    .dataframe tbody tr th {\n",
       "        vertical-align: top;\n",
       "    }\n",
       "\n",
       "    .dataframe thead th {\n",
       "        text-align: right;\n",
       "    }\n",
       "</style>\n",
       "<table border=\"1\" class=\"dataframe\">\n",
       "  <thead>\n",
       "    <tr style=\"text-align: right;\">\n",
       "      <th></th>\n",
       "      <th>2018 Total</th>\n",
       "      <th>2018 Orange</th>\n",
       "      <th>2018 Brown</th>\n",
       "      <th>2019 Total</th>\n",
       "      <th>2019 Orange</th>\n",
       "      <th>2019 Brown</th>\n",
       "      <th>2020 Total</th>\n",
       "      <th>2020 Orange</th>\n",
       "      <th>2020 Brown</th>\n",
       "      <th>2021 Total</th>\n",
       "      <th>2021 Orange</th>\n",
       "      <th>2021 Brown</th>\n",
       "    </tr>\n",
       "  </thead>\n",
       "  <tbody>\n",
       "    <tr>\n",
       "      <th>Number of replicates (n)</th>\n",
       "      <td>61.00</td>\n",
       "      <td>61.00</td>\n",
       "      <td>61.00</td>\n",
       "      <td>57.00</td>\n",
       "      <td>57.00</td>\n",
       "      <td>57.00</td>\n",
       "      <td>52.00</td>\n",
       "      <td>52.00</td>\n",
       "      <td>52.00</td>\n",
       "      <td>65.00</td>\n",
       "      <td>65.00</td>\n",
       "      <td>65.00</td>\n",
       "    </tr>\n",
       "    <tr>\n",
       "      <th>Degrees of freedom (n-1)</th>\n",
       "      <td>60.00</td>\n",
       "      <td>60.00</td>\n",
       "      <td>60.00</td>\n",
       "      <td>56.00</td>\n",
       "      <td>56.00</td>\n",
       "      <td>56.00</td>\n",
       "      <td>51.00</td>\n",
       "      <td>51.00</td>\n",
       "      <td>51.00</td>\n",
       "      <td>64.00</td>\n",
       "      <td>64.00</td>\n",
       "      <td>64.00</td>\n",
       "    </tr>\n",
       "    <tr>\n",
       "      <th>Average (Mean)</th>\n",
       "      <td>10.08</td>\n",
       "      <td>4.74</td>\n",
       "      <td>5.33</td>\n",
       "      <td>10.00</td>\n",
       "      <td>5.32</td>\n",
       "      <td>4.68</td>\n",
       "      <td>10.38</td>\n",
       "      <td>5.52</td>\n",
       "      <td>4.87</td>\n",
       "      <td>10.42</td>\n",
       "      <td>5.46</td>\n",
       "      <td>4.95</td>\n",
       "    </tr>\n",
       "    <tr>\n",
       "      <th>Median</th>\n",
       "      <td>10.00</td>\n",
       "      <td>5.00</td>\n",
       "      <td>5.00</td>\n",
       "      <td>10.00</td>\n",
       "      <td>5.00</td>\n",
       "      <td>4.00</td>\n",
       "      <td>11.00</td>\n",
       "      <td>5.00</td>\n",
       "      <td>5.00</td>\n",
       "      <td>10.00</td>\n",
       "      <td>5.00</td>\n",
       "      <td>5.00</td>\n",
       "    </tr>\n",
       "    <tr>\n",
       "      <th>Minimum</th>\n",
       "      <td>7.00</td>\n",
       "      <td>2.00</td>\n",
       "      <td>2.00</td>\n",
       "      <td>7.00</td>\n",
       "      <td>2.00</td>\n",
       "      <td>0.00</td>\n",
       "      <td>6.00</td>\n",
       "      <td>2.00</td>\n",
       "      <td>2.00</td>\n",
       "      <td>9.00</td>\n",
       "      <td>1.00</td>\n",
       "      <td>1.00</td>\n",
       "    </tr>\n",
       "    <tr>\n",
       "      <th>Maximum</th>\n",
       "      <td>12.00</td>\n",
       "      <td>7.00</td>\n",
       "      <td>8.00</td>\n",
       "      <td>13.00</td>\n",
       "      <td>8.00</td>\n",
       "      <td>11.00</td>\n",
       "      <td>15.00</td>\n",
       "      <td>11.00</td>\n",
       "      <td>9.00</td>\n",
       "      <td>12.00</td>\n",
       "      <td>9.00</td>\n",
       "      <td>9.00</td>\n",
       "    </tr>\n",
       "    <tr>\n",
       "      <th>Standard Deviation</th>\n",
       "      <td>1.16</td>\n",
       "      <td>1.05</td>\n",
       "      <td>1.52</td>\n",
       "      <td>1.45</td>\n",
       "      <td>1.57</td>\n",
       "      <td>2.25</td>\n",
       "      <td>1.17</td>\n",
       "      <td>2.09</td>\n",
       "      <td>1.92</td>\n",
       "      <td>0.73</td>\n",
       "      <td>1.72</td>\n",
       "      <td>1.75</td>\n",
       "    </tr>\n",
       "    <tr>\n",
       "      <th>Standard Error</th>\n",
       "      <td>0.15</td>\n",
       "      <td>0.13</td>\n",
       "      <td>0.20</td>\n",
       "      <td>0.19</td>\n",
       "      <td>0.21</td>\n",
       "      <td>0.30</td>\n",
       "      <td>0.16</td>\n",
       "      <td>0.29</td>\n",
       "      <td>0.27</td>\n",
       "      <td>0.09</td>\n",
       "      <td>0.21</td>\n",
       "      <td>0.22</td>\n",
       "    </tr>\n",
       "    <tr>\n",
       "      <th>% Relative Standard Deviation</th>\n",
       "      <td>0.02</td>\n",
       "      <td>0.02</td>\n",
       "      <td>0.02</td>\n",
       "      <td>0.03</td>\n",
       "      <td>0.03</td>\n",
       "      <td>0.04</td>\n",
       "      <td>0.02</td>\n",
       "      <td>0.04</td>\n",
       "      <td>0.04</td>\n",
       "      <td>0.01</td>\n",
       "      <td>0.03</td>\n",
       "      <td>0.03</td>\n",
       "    </tr>\n",
       "  </tbody>\n",
       "</table>\n",
       "</div>"
      ],
      "text/plain": [
       "                               2018 Total  2018 Orange  2018 Brown  \\\n",
       "Number of replicates (n)            61.00        61.00       61.00   \n",
       "Degrees of freedom (n-1)            60.00        60.00       60.00   \n",
       "Average (Mean)                      10.08         4.74        5.33   \n",
       "Median                              10.00         5.00        5.00   \n",
       "Minimum                              7.00         2.00        2.00   \n",
       "Maximum                             12.00         7.00        8.00   \n",
       "Standard Deviation                   1.16         1.05        1.52   \n",
       "Standard Error                       0.15         0.13        0.20   \n",
       "% Relative Standard Deviation        0.02         0.02        0.02   \n",
       "\n",
       "                               2019 Total  2019 Orange  2019 Brown  \\\n",
       "Number of replicates (n)            57.00        57.00       57.00   \n",
       "Degrees of freedom (n-1)            56.00        56.00       56.00   \n",
       "Average (Mean)                      10.00         5.32        4.68   \n",
       "Median                              10.00         5.00        4.00   \n",
       "Minimum                              7.00         2.00        0.00   \n",
       "Maximum                             13.00         8.00       11.00   \n",
       "Standard Deviation                   1.45         1.57        2.25   \n",
       "Standard Error                       0.19         0.21        0.30   \n",
       "% Relative Standard Deviation        0.03         0.03        0.04   \n",
       "\n",
       "                               2020 Total  2020 Orange  2020 Brown  \\\n",
       "Number of replicates (n)            52.00        52.00       52.00   \n",
       "Degrees of freedom (n-1)            51.00        51.00       51.00   \n",
       "Average (Mean)                      10.38         5.52        4.87   \n",
       "Median                              11.00         5.00        5.00   \n",
       "Minimum                              6.00         2.00        2.00   \n",
       "Maximum                             15.00        11.00        9.00   \n",
       "Standard Deviation                   1.17         2.09        1.92   \n",
       "Standard Error                       0.16         0.29        0.27   \n",
       "% Relative Standard Deviation        0.02         0.04        0.04   \n",
       "\n",
       "                               2021 Total  2021 Orange  2021 Brown  \n",
       "Number of replicates (n)            65.00        65.00       65.00  \n",
       "Degrees of freedom (n-1)            64.00        64.00       64.00  \n",
       "Average (Mean)                      10.42         5.46        4.95  \n",
       "Median                              10.00         5.00        5.00  \n",
       "Minimum                              9.00         1.00        1.00  \n",
       "Maximum                             12.00         9.00        9.00  \n",
       "Standard Deviation                   0.73         1.72        1.75  \n",
       "Standard Error                       0.09         0.21        0.22  \n",
       "% Relative Standard Deviation        0.01         0.03        0.03  "
      ]
     },
     "execution_count": 22,
     "metadata": {},
     "output_type": "execute_result"
    }
   ],
   "source": [
    "# 1 Summary of Stat\n",
    "ans = pd.DataFrame()\n",
    "ans.index = [\"Number of replicates (n)\",\"Degrees of freedom (n-1)\",\"Average (Mean)\",\"Median\",\"Minimum\",\"Maximum\",\"Standard Deviation\",\"Standard Error\",\"% Relative Standard Deviation\"]\n",
    "for year in [\"2018\",\"2019\",\"2020\",\"2021\"]:\n",
    "    thisYearData = pd.read_csv(f\"{year}.csv\")\n",
    "    for col in [\"Total\",\"Orange\",\"Brown\"]:\n",
    "        res = []\n",
    "        raw = thisYearData[col]\n",
    "        res.extend([len(raw),len(raw)-1,np.mean(raw),np.median(raw),np.min(raw),np.max(raw),np.std(raw, ddof=1),np.std(raw, ddof=1)/np.sqrt(len(raw)),np.std(raw, ddof=1)/len(raw)])\n",
    "        ans[f\"{year} {col}\"]=res\n",
    "ans.round(2)"
   ]
  },
  {
   "cell_type": "code",
   "execution_count": 23,
   "metadata": {},
   "outputs": [],
   "source": [
    "# Note that the F-test is extremely sensitive to non-normality of X and Y"
   ]
  },
  {
   "cell_type": "markdown",
   "metadata": {},
   "source": [
    "### F-test:\n",
    "H0: The variances of 2018 orange number and 2019 orange number are the same\n",
    "HA: The variances of 2018 orange number and 2019 orange number are NOT the same"
   ]
  },
  {
   "cell_type": "code",
   "execution_count": 52,
   "metadata": {},
   "outputs": [
    {
     "name": "stdout",
     "output_type": "stream",
     "text": [
      "2.252098857007991 0.001134574530295196\n"
     ]
    }
   ],
   "source": [
    "# https://www.geeksforgeeks.org/how-to-perform-an-f-test-in-python/\n",
    "O2018 = pd.read_csv(\"2018.csv\")[\"Orange\"]\n",
    "O2019 = pd.read_csv(\"2019.csv\")[\"Orange\"]\n",
    "f = np.var(O2019, ddof=1)/np.var(O2018, ddof=1) #Use the large mius the small\n",
    "df1 = len(O2019)-1\n",
    "df2 = len(O2018)-1\n",
    "p_value = 1-scipy.stats.f.cdf(f, df1, df2) # Why 1-? Crosscheck with excel\n",
    "print(f, p_value)"
   ]
  },
  {
   "cell_type": "markdown",
   "metadata": {},
   "source": [
    "Since p_value < 0.05, we rejected the H0. This means we do have enough evidence to say the variances are different. \n",
    "Thus, we use the t-test with 2 sample with different variance. "
   ]
  },
  {
   "cell_type": "markdown",
   "metadata": {},
   "source": [
    "### T-Test\n",
    "H0: There is no difference between number of Orange Smarties from 2018 and 2019 \n",
    "HA: There is difference between number of Orange Smarties from 2018 and 2019 "
   ]
  },
  {
   "cell_type": "code",
   "execution_count": 53,
   "metadata": {},
   "outputs": [
    {
     "data": {
      "text/plain": [
       "Ttest_indResult(statistic=-2.3346510746036433, pvalue=0.021632437280711053)"
      ]
     },
     "execution_count": 53,
     "metadata": {},
     "output_type": "execute_result"
    }
   ],
   "source": [
    "# https://docs.scipy.org/doc/scipy/reference/generated/scipy.stats.ttest_ind.html\n",
    "scipy.stats.ttest_ind(O2018, O2019, equal_var=0)"
   ]
  },
  {
   "cell_type": "markdown",
   "metadata": {},
   "source": [
    "Since the p value is less than alpha (0.05), we reject H0. This means that we have enough evidence to conclude that the orange smarties from 2018 and 2019 are different in numbers."
   ]
  },
  {
   "cell_type": "markdown",
   "metadata": {},
   "source": [
    "### ANOVA\n",
    "H0: There is NOT difference between brown Smarties across all 4 years\n",
    "HA: There is difference between brown Smarties across all 4 years "
   ]
  },
  {
   "cell_type": "code",
   "execution_count": 42,
   "metadata": {},
   "outputs": [
    {
     "data": {
      "image/png": "[encoded data removed]",
      "text/plain": [
       "<Figure size 640x480 with 1 Axes>"
      ]
     },
     "metadata": {},
     "output_type": "display_data"
    }
   ],
   "source": [
    "# https://towardsdatascience.com/anova-test-with-python-cfbf4013328b \n",
    "# Assume Normal?"
   ]
  },
  {
   "cell_type": "code",
   "execution_count": 55,
   "metadata": {},
   "outputs": [
    {
     "data": {
      "text/plain": [
       "F_onewayResult(statistic=1.2425856826559285, pvalue=0.2950135423301665)"
      ]
     },
     "execution_count": 55,
     "metadata": {},
     "output_type": "execute_result"
    }
   ],
   "source": [
    "# https://docs.scipy.org/doc/scipy/reference/generated/scipy.stats.f_oneway.html No need for re-implement\n",
    "B2018 = pd.read_csv(\"2018.csv\")[\"Brown\"]\n",
    "B2019 = pd.read_csv(\"2019.csv\")[\"Brown\"]\n",
    "B2020 = pd.read_csv(\"2020.csv\")[\"Brown\"]\n",
    "B2021 = pd.read_csv(\"2021.csv\")[\"Brown\"]\n",
    "scipy.stats.f_oneway(B2018, B2019, B2020, B2021)"
   ]
  },
  {
   "cell_type": "markdown",
   "metadata": {},
   "source": [
    "Since the P-value is NOT less than Alpha (0.05), we failed to reject H0. Therefore we do not have enough evidence to conclue that the number of borwn smarties are different across years"
   ]
  }
 ],
 "metadata": {
  "interpreter": {
   "hash": "e7370f93d1d0cde622a1f8e1c04877d8463912d04d973331ad4851f04de6915a"
  },
  "kernelspec": {
   "display_name": "Python 3.10.7 64-bit",
   "language": "python",
   "name": "python3"
  },
  "language_info": {
   "codemirror_mode": {
    "name": "ipython",
    "version": 3
   },
   "file_extension": ".py",
   "mimetype": "text/x-python",
   "name": "python",
   "nbconvert_exporter": "python",
   "pygments_lexer": "ipython3",
   "version": "3.10.7"
  },
  "orig_nbformat": 4
 },
 "nbformat": 4,
 "nbformat_minor": 2
}
